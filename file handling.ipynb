{
 "cells": [
  {
   "cell_type": "code",
   "execution_count": 1,
   "id": "3a39ef3f-5c27-40f1-a2f8-564b2ff91e3c",
   "metadata": {},
   "outputs": [
    {
     "name": "stdout",
     "output_type": "stream",
     "text": [
      " Volume in drive C has no label.\n",
      " Volume Serial Number is 9074-613E\n",
      "\n",
      " Directory of C:\\Users\\Admin\\Desktop\\amruta programs\\file\n",
      "\n",
      "17-12-2024  15:44    <DIR>          .\n",
      "17-12-2024  15:44    <DIR>          ..\n",
      "17-12-2024  15:44    <DIR>          .ipynb_checkpoints\n",
      "17-12-2024  15:44               337 file handling.ipynb\n",
      "               1 File(s)            337 bytes\n",
      "               3 Dir(s)  180,761,812,992 bytes free\n"
     ]
    }
   ],
   "source": [
    "ls"
   ]
  },
  {
   "cell_type": "markdown",
   "id": "7dc2792b-cce2-48bd-8164-aeb69d3c55cc",
   "metadata": {},
   "source": [
    "Creating file"
   ]
  },
  {
   "cell_type": "code",
   "execution_count": 5,
   "id": "7ef8532e-30fa-4ed2-b224-972d8ea908c6",
   "metadata": {},
   "outputs": [
    {
     "ename": "FileNotFoundError",
     "evalue": "[Errno 2] No such file or directory: 'example.txt'",
     "output_type": "error",
     "traceback": [
      "\u001b[1;31m---------------------------------------------------------------------------\u001b[0m",
      "\u001b[1;31mFileNotFoundError\u001b[0m                         Traceback (most recent call last)",
      "Cell \u001b[1;32mIn[5], line 1\u001b[0m\n\u001b[1;32m----> 1\u001b[0m f \u001b[38;5;241m=\u001b[39m \u001b[38;5;28mopen\u001b[39m(\u001b[38;5;124m'\u001b[39m\u001b[38;5;124mexample.txt\u001b[39m\u001b[38;5;124m'\u001b[39m, mode \u001b[38;5;241m=\u001b[39m \u001b[38;5;124m'\u001b[39m\u001b[38;5;124mr\u001b[39m\u001b[38;5;124m'\u001b[39m)\n",
      "File \u001b[1;32m~\\anaconda3\\Lib\\site-packages\\IPython\\core\\interactiveshell.py:324\u001b[0m, in \u001b[0;36m_modified_open\u001b[1;34m(file, *args, **kwargs)\u001b[0m\n\u001b[0;32m    317\u001b[0m \u001b[38;5;28;01mif\u001b[39;00m file \u001b[38;5;129;01min\u001b[39;00m {\u001b[38;5;241m0\u001b[39m, \u001b[38;5;241m1\u001b[39m, \u001b[38;5;241m2\u001b[39m}:\n\u001b[0;32m    318\u001b[0m     \u001b[38;5;28;01mraise\u001b[39;00m \u001b[38;5;167;01mValueError\u001b[39;00m(\n\u001b[0;32m    319\u001b[0m         \u001b[38;5;124mf\u001b[39m\u001b[38;5;124m\"\u001b[39m\u001b[38;5;124mIPython won\u001b[39m\u001b[38;5;124m'\u001b[39m\u001b[38;5;124mt let you open fd=\u001b[39m\u001b[38;5;132;01m{\u001b[39;00mfile\u001b[38;5;132;01m}\u001b[39;00m\u001b[38;5;124m by default \u001b[39m\u001b[38;5;124m\"\u001b[39m\n\u001b[0;32m    320\u001b[0m         \u001b[38;5;124m\"\u001b[39m\u001b[38;5;124mas it is likely to crash IPython. If you know what you are doing, \u001b[39m\u001b[38;5;124m\"\u001b[39m\n\u001b[0;32m    321\u001b[0m         \u001b[38;5;124m\"\u001b[39m\u001b[38;5;124myou can use builtins\u001b[39m\u001b[38;5;124m'\u001b[39m\u001b[38;5;124m open.\u001b[39m\u001b[38;5;124m\"\u001b[39m\n\u001b[0;32m    322\u001b[0m     )\n\u001b[1;32m--> 324\u001b[0m \u001b[38;5;28;01mreturn\u001b[39;00m io_open(file, \u001b[38;5;241m*\u001b[39margs, \u001b[38;5;241m*\u001b[39m\u001b[38;5;241m*\u001b[39mkwargs)\n",
      "\u001b[1;31mFileNotFoundError\u001b[0m: [Errno 2] No such file or directory: 'example.txt'"
     ]
    }
   ],
   "source": [
    "f = open('example.txt', mode = 'r')"
   ]
  },
  {
   "cell_type": "code",
   "execution_count": 7,
   "id": "3ccd0824-9155-476f-9898-79c2340b012d",
   "metadata": {},
   "outputs": [],
   "source": [
    "f = open('example.txt', mode = 'w')"
   ]
  },
  {
   "cell_type": "code",
   "execution_count": 11,
   "id": "17948f72-b31e-42f8-83cb-1ab8a9010f91",
   "metadata": {},
   "outputs": [
    {
     "data": {
      "text/plain": [
       "21"
      ]
     },
     "execution_count": 11,
     "metadata": {},
     "output_type": "execute_result"
    }
   ],
   "source": [
    "f.write('This is example file.')"
   ]
  },
  {
   "cell_type": "code",
   "execution_count": 15,
   "id": "f40bfac8-0a10-4bf3-a854-a0303c297972",
   "metadata": {},
   "outputs": [],
   "source": [
    "f.close()"
   ]
  },
  {
   "cell_type": "code",
   "execution_count": 17,
   "id": "db6abe48-e91f-4503-b7ac-777bc63dca09",
   "metadata": {},
   "outputs": [],
   "source": [
    "f = open('example.txt', mode = 'r')"
   ]
  },
  {
   "cell_type": "code",
   "execution_count": 20,
   "id": "04172f5d-73fc-4999-8c63-2c5dc3b06436",
   "metadata": {},
   "outputs": [
    {
     "data": {
      "text/plain": [
       "'This is example file.'"
      ]
     },
     "execution_count": 20,
     "metadata": {},
     "output_type": "execute_result"
    }
   ],
   "source": [
    "f.read()"
   ]
  },
  {
   "cell_type": "code",
   "execution_count": 22,
   "id": "28e752d9-5cba-4e6e-9211-8c05679ecc43",
   "metadata": {},
   "outputs": [],
   "source": [
    "f.close()"
   ]
  },
  {
   "cell_type": "code",
   "execution_count": 26,
   "id": "fca6890c-f28a-41fc-92d6-f79abf6506e7",
   "metadata": {},
   "outputs": [],
   "source": [
    "o = open('hello python txt.', mode = 'w')"
   ]
  },
  {
   "cell_type": "code",
   "execution_count": 28,
   "id": "cf743502-c9f4-4aa3-8c12-6cc482ba7d0c",
   "metadata": {},
   "outputs": [
    {
     "data": {
      "text/plain": [
       "25"
      ]
     },
     "execution_count": 28,
     "metadata": {},
     "output_type": "execute_result"
    }
   ],
   "source": [
    "o.write('This is hello python file')"
   ]
  },
  {
   "cell_type": "code",
   "execution_count": 30,
   "id": "134ca1d2-32f5-40b2-9ab4-13bc6567bdda",
   "metadata": {},
   "outputs": [],
   "source": [
    "o.close()"
   ]
  },
  {
   "cell_type": "code",
   "execution_count": 72,
   "id": "798fd3f5-0766-47b1-8e54-c77c636e57b7",
   "metadata": {},
   "outputs": [],
   "source": [
    "o = open('hello python txt.', mode = 'r+')"
   ]
  },
  {
   "cell_type": "code",
   "execution_count": 74,
   "id": "a482f40e-d0c5-4b33-b0e1-aee9a6bc4953",
   "metadata": {},
   "outputs": [
    {
     "data": {
      "text/plain": [
       "'This is my second sentencesThis is my second sentences'"
      ]
     },
     "execution_count": 74,
     "metadata": {},
     "output_type": "execute_result"
    }
   ],
   "source": [
    "o.read()"
   ]
  },
  {
   "cell_type": "code",
   "execution_count": 70,
   "id": "d97717c9-e6e5-4c31-866a-82a1c46645c0",
   "metadata": {},
   "outputs": [
    {
     "data": {
      "text/plain": [
       "27"
      ]
     },
     "execution_count": 70,
     "metadata": {},
     "output_type": "execute_result"
    }
   ],
   "source": [
    "o.write('This is my second sentences')"
   ]
  },
  {
   "cell_type": "code",
   "execution_count": 87,
   "id": "6f9dbdd3-21fb-4d2e-81b1-5cd47de3ee5f",
   "metadata": {},
   "outputs": [],
   "source": [
    "o.close()"
   ]
  },
  {
   "cell_type": "code",
   "execution_count": 90,
   "id": "fb060f0a-c78c-4c72-9181-570638e74979",
   "metadata": {},
   "outputs": [],
   "source": [
    "o = open('hello python txt.', mode = 'r')"
   ]
  },
  {
   "cell_type": "code",
   "execution_count": 92,
   "id": "7d636316-fb86-4272-8e87-350cbe9e7078",
   "metadata": {},
   "outputs": [
    {
     "data": {
      "text/plain": [
       "'This is my second sentencesThis is my second sentences'"
      ]
     },
     "execution_count": 92,
     "metadata": {},
     "output_type": "execute_result"
    }
   ],
   "source": [
    "o.read()"
   ]
  },
  {
   "cell_type": "code",
   "execution_count": 98,
   "id": "ab02efcd-861d-43c1-8220-aa43365963b5",
   "metadata": {},
   "outputs": [
    {
     "data": {
      "text/plain": [
       "0"
      ]
     },
     "execution_count": 98,
     "metadata": {},
     "output_type": "execute_result"
    }
   ],
   "source": [
    "o.seek(0)"
   ]
  },
  {
   "cell_type": "code",
   "execution_count": 100,
   "id": "4d87a188-2760-42cc-9d8d-c34647f3046c",
   "metadata": {},
   "outputs": [
    {
     "data": {
      "text/plain": [
       "'This is my second sentencesThis is my second sentences'"
      ]
     },
     "execution_count": 100,
     "metadata": {},
     "output_type": "execute_result"
    }
   ],
   "source": [
    "o.read()"
   ]
  },
  {
   "cell_type": "code",
   "execution_count": 102,
   "id": "8d32286c-c21b-4b3c-833f-9b1246ccacd4",
   "metadata": {},
   "outputs": [
    {
     "data": {
      "text/plain": [
       "5"
      ]
     },
     "execution_count": 102,
     "metadata": {},
     "output_type": "execute_result"
    }
   ],
   "source": [
    "o.seek(5)"
   ]
  },
  {
   "cell_type": "code",
   "execution_count": 104,
   "id": "fbd9f269-544c-4bdc-9236-eee29ee4d2f9",
   "metadata": {},
   "outputs": [
    {
     "data": {
      "text/plain": [
       "'is my second sentencesThis is my second sentences'"
      ]
     },
     "execution_count": 104,
     "metadata": {},
     "output_type": "execute_result"
    }
   ],
   "source": [
    "o.read()"
   ]
  },
  {
   "cell_type": "code",
   "execution_count": 107,
   "id": "04c2d43f-ae55-472b-9d8a-4d5d003a2605",
   "metadata": {},
   "outputs": [],
   "source": [
    "o.close()"
   ]
  },
  {
   "cell_type": "code",
   "execution_count": 109,
   "id": "c7d93599-6b8b-4808-a026-3735fc61f074",
   "metadata": {},
   "outputs": [],
   "source": [
    "a = open('sentence txt.',mode = 'w')"
   ]
  },
  {
   "cell_type": "code",
   "execution_count": 111,
   "id": "42515439-539a-4f88-8fb2-bbb2e9305bd6",
   "metadata": {},
   "outputs": [
    {
     "data": {
      "text/plain": [
       "63"
      ]
     },
     "execution_count": 111,
     "metadata": {},
     "output_type": "execute_result"
    }
   ],
   "source": [
    "a.write('''This is my line no.1.\n",
    "This is my line no.2\n",
    "This is my line no.3''')"
   ]
  },
  {
   "cell_type": "code",
   "execution_count": 113,
   "id": "c2d2f575-4ed5-4c72-bf57-284909320002",
   "metadata": {},
   "outputs": [],
   "source": [
    "a.close()"
   ]
  },
  {
   "cell_type": "code",
   "execution_count": 133,
   "id": "b65cfb04-0cc6-412f-a30e-33a48632b66d",
   "metadata": {},
   "outputs": [],
   "source": [
    "a = open('sentence txt.',mode = 'r+')"
   ]
  },
  {
   "cell_type": "code",
   "execution_count": 135,
   "id": "8310d9b1-41d1-4d05-aae8-3755bab46dfd",
   "metadata": {},
   "outputs": [
    {
     "data": {
      "text/plain": [
       "'This is my line no.1.\\nThis is my line no.2\\nThis is my line no.3'"
      ]
     },
     "execution_count": 135,
     "metadata": {},
     "output_type": "execute_result"
    }
   ],
   "source": [
    "a.read()"
   ]
  },
  {
   "cell_type": "code",
   "execution_count": 137,
   "id": "1f805b52-3d58-4721-a6d1-a9a01676255d",
   "metadata": {},
   "outputs": [
    {
     "data": {
      "text/plain": [
       "0"
      ]
     },
     "execution_count": 137,
     "metadata": {},
     "output_type": "execute_result"
    }
   ],
   "source": [
    "a.seek(0)"
   ]
  },
  {
   "cell_type": "code",
   "execution_count": 139,
   "id": "6ee3faf2-aed9-4d29-9841-5c90090200a2",
   "metadata": {},
   "outputs": [
    {
     "data": {
      "text/plain": [
       "'This is my line no.1.\\n'"
      ]
     },
     "execution_count": 139,
     "metadata": {},
     "output_type": "execute_result"
    }
   ],
   "source": [
    "a.readline()"
   ]
  },
  {
   "cell_type": "code",
   "execution_count": 141,
   "id": "34bb4fe0-d603-4200-a4bf-3efc62049faa",
   "metadata": {},
   "outputs": [
    {
     "data": {
      "text/plain": [
       "'This is my line no.2\\n'"
      ]
     },
     "execution_count": 141,
     "metadata": {},
     "output_type": "execute_result"
    }
   ],
   "source": [
    "a.readline()"
   ]
  },
  {
   "cell_type": "code",
   "execution_count": 143,
   "id": "9e8545df-b8f4-4f38-ab99-abc5f07ffaf8",
   "metadata": {},
   "outputs": [
    {
     "data": {
      "text/plain": [
       "'This is my line no.3'"
      ]
     },
     "execution_count": 143,
     "metadata": {},
     "output_type": "execute_result"
    }
   ],
   "source": [
    "a.readline()"
   ]
  },
  {
   "cell_type": "code",
   "execution_count": 147,
   "id": "90053b1c-df91-46a4-a434-8344e202e826",
   "metadata": {},
   "outputs": [
    {
     "data": {
      "text/plain": [
       "''"
      ]
     },
     "execution_count": 147,
     "metadata": {},
     "output_type": "execute_result"
    }
   ],
   "source": [
    "a.readline()"
   ]
  },
  {
   "cell_type": "code",
   "execution_count": 155,
   "id": "121a9250-e0a5-48d6-8b02-696637ac7942",
   "metadata": {},
   "outputs": [
    {
     "data": {
      "text/plain": [
       "[]"
      ]
     },
     "execution_count": 155,
     "metadata": {},
     "output_type": "execute_result"
    }
   ],
   "source": [
    "a.readlines()"
   ]
  },
  {
   "cell_type": "code",
   "execution_count": 157,
   "id": "9609eeb7-82dc-4566-bd80-fbabbb10c496",
   "metadata": {},
   "outputs": [
    {
     "data": {
      "text/plain": [
       "0"
      ]
     },
     "execution_count": 157,
     "metadata": {},
     "output_type": "execute_result"
    }
   ],
   "source": [
    "a.seek(0)"
   ]
  },
  {
   "cell_type": "code",
   "execution_count": 159,
   "id": "e599bca4-4605-4849-ab43-fb973c3b0e3b",
   "metadata": {},
   "outputs": [
    {
     "name": "stdout",
     "output_type": "stream",
     "text": [
      "This is my line no.1.\n",
      "\n",
      "This is my line no.2\n",
      "\n",
      "This is my line no.3\n"
     ]
    }
   ],
   "source": [
    "for sentence in a.readlines():\n",
    "    print(sentence)\n"
   ]
  },
  {
   "cell_type": "code",
   "execution_count": 161,
   "id": "98ae4d66-8cda-4798-ab05-c35c71ab5435",
   "metadata": {},
   "outputs": [
    {
     "data": {
      "text/plain": [
       "0"
      ]
     },
     "execution_count": 161,
     "metadata": {},
     "output_type": "execute_result"
    }
   ],
   "source": [
    "a.seek(0)"
   ]
  },
  {
   "cell_type": "code",
   "execution_count": 174,
   "id": "12a34b85-d726-4eb9-9805-9074517f25d5",
   "metadata": {},
   "outputs": [],
   "source": [
    "for sentence in a.readlines():\n",
    "    print(sentence.split(''))"
   ]
  },
  {
   "cell_type": "code",
   "execution_count": 176,
   "id": "87e85926-fe47-4247-b57f-b83685d1541c",
   "metadata": {},
   "outputs": [],
   "source": [
    "a.close()"
   ]
  },
  {
   "cell_type": "markdown",
   "id": "0e7b2252-7bbf-433d-a5f0-7d3b5fdc61a3",
   "metadata": {},
   "source": [
    "# spilt"
   ]
  },
  {
   "cell_type": "code",
   "execution_count": 179,
   "id": "4988a358-73b6-4278-afaa-87558e96b009",
   "metadata": {},
   "outputs": [
    {
     "data": {
      "text/plain": [
       "['H', 'llo']"
      ]
     },
     "execution_count": 179,
     "metadata": {},
     "output_type": "execute_result"
    }
   ],
   "source": [
    "'Hello'.split('e')"
   ]
  },
  {
   "cell_type": "code",
   "execution_count": 181,
   "id": "bf52a664-749c-417a-b0c1-6ef1accdfb6e",
   "metadata": {},
   "outputs": [
    {
     "data": {
      "text/plain": [
       "['Pyt', 'on']"
      ]
     },
     "execution_count": 181,
     "metadata": {},
     "output_type": "execute_result"
    }
   ],
   "source": [
    "'Python'.split('h')"
   ]
  },
  {
   "cell_type": "code",
   "execution_count": 183,
   "id": "5426fd4a-3818-43f0-948c-ae952d890812",
   "metadata": {},
   "outputs": [
    {
     "data": {
      "text/plain": [
       "['16', '12', '2024']"
      ]
     },
     "execution_count": 183,
     "metadata": {},
     "output_type": "execute_result"
    }
   ],
   "source": [
    "'16/12/2024'.split('/')"
   ]
  },
  {
   "cell_type": "code",
   "execution_count": 185,
   "id": "4856014c-9245-43a7-a239-82a23c6652e5",
   "metadata": {},
   "outputs": [],
   "source": [
    "l = '16/12/2024'.split('/')"
   ]
  },
  {
   "cell_type": "code",
   "execution_count": 188,
   "id": "7f5ae9e1-4755-4890-b729-1365dfeccbb2",
   "metadata": {},
   "outputs": [
    {
     "data": {
      "text/plain": [
       "['16', '12', '2024']"
      ]
     },
     "execution_count": 188,
     "metadata": {},
     "output_type": "execute_result"
    }
   ],
   "source": [
    "l"
   ]
  },
  {
   "cell_type": "code",
   "execution_count": 191,
   "id": "a8a81893-3f64-4ea3-805e-080a7817afb2",
   "metadata": {},
   "outputs": [],
   "source": [
    "l = open('functions_1.py', 'w')"
   ]
  },
  {
   "cell_type": "code",
   "execution_count": 193,
   "id": "fe4870e9-7b28-4beb-b548-1af8f319a621",
   "metadata": {},
   "outputs": [
    {
     "data": {
      "text/plain": [
       "63"
      ]
     },
     "execution_count": 193,
     "metadata": {},
     "output_type": "execute_result"
    }
   ],
   "source": [
    "l.write('''data =[1,2,3,4,5]\n",
    "names =['hello','python']\n",
    "print(data + names)''')"
   ]
  },
  {
   "cell_type": "code",
   "execution_count": 195,
   "id": "50a68377-3ebd-44e4-b4c5-ad28044166d7",
   "metadata": {},
   "outputs": [],
   "source": [
    "l.close()"
   ]
  },
  {
   "cell_type": "code",
   "execution_count": 198,
   "id": "ef26a68e-f840-4d9b-823a-b0657a0b50ab",
   "metadata": {},
   "outputs": [],
   "source": [
    "l = open('functions_1.py', mode ='r+')"
   ]
  },
  {
   "cell_type": "code",
   "execution_count": 201,
   "id": "aea6ed79-b655-4945-a8b3-fb177cbd2efc",
   "metadata": {},
   "outputs": [
    {
     "data": {
      "text/plain": [
       "\"data =[1,2,3,4,5]\\nnames =['hello','python']\\nprint(data + names)\""
      ]
     },
     "execution_count": 201,
     "metadata": {},
     "output_type": "execute_result"
    }
   ],
   "source": [
    "l.read()"
   ]
  },
  {
   "cell_type": "code",
   "execution_count": null,
   "id": "0f930d71-2d6c-4cc1-8cfe-9592a648ab72",
   "metadata": {},
   "outputs": [],
   "source": []
  },
  {
   "cell_type": "code",
   "execution_count": null,
   "id": "656d5035-4d48-446e-9768-f36d08df5a78",
   "metadata": {},
   "outputs": [],
   "source": []
  }
 ],
 "metadata": {
  "kernelspec": {
   "display_name": "Python 3 (ipykernel)",
   "language": "python",
   "name": "python3"
  },
  "language_info": {
   "codemirror_mode": {
    "name": "ipython",
    "version": 3
   },
   "file_extension": ".py",
   "mimetype": "text/x-python",
   "name": "python",
   "nbconvert_exporter": "python",
   "pygments_lexer": "ipython3",
   "version": "3.12.7"
  }
 },
 "nbformat": 4,
 "nbformat_minor": 5
}
