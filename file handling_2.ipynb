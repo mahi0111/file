{
 "cells": [
  {
   "cell_type": "code",
   "execution_count": 1,
   "id": "672f2c38-70ed-41ac-b765-cfd459017344",
   "metadata": {},
   "outputs": [
    {
     "name": "stdout",
     "output_type": "stream",
     "text": [
      " Volume in drive C has no label.\n",
      " Volume Serial Number is 9074-613E\n",
      "\n",
      " Directory of C:\\Users\\Admin\\Desktop\\amruta programs\\file\n",
      "\n",
      "18-12-2024  11:57    <DIR>          .\n",
      "18-12-2024  11:57    <DIR>          ..\n",
      "18-12-2024  11:57    <DIR>          .ipynb_checkpoints\n",
      "17-12-2024  15:57                21 example.txt\n",
      "18-12-2024  11:54            18,427 file handling.ipynb\n",
      "18-12-2024  11:57               337 file handling_2.ipynb\n",
      "18-12-2024  11:53                65 functions_1.py\n",
      "18-12-2024  11:14                54 hello python txt\n",
      "18-12-2024  11:27                65 sentence txt\n",
      "               6 File(s)         18,969 bytes\n",
      "               3 Dir(s)  181,068,505,088 bytes free\n"
     ]
    }
   ],
   "source": [
    "ls"
   ]
  },
  {
   "cell_type": "code",
   "execution_count": 3,
   "id": "280f0a54-aebf-494f-a95a-551dceb2a018",
   "metadata": {},
   "outputs": [],
   "source": [
    "o = open('data analyst life.txt', mode = 'w')"
   ]
  },
  {
   "cell_type": "code",
   "execution_count": 5,
   "id": "7e20198b-dac6-445a-801f-4c3af9808023",
   "metadata": {},
   "outputs": [
    {
     "data": {
      "text/plain": [
       "1847"
      ]
     },
     "execution_count": 5,
     "metadata": {},
     "output_type": "execute_result"
    }
   ],
   "source": [
    "o.write('''Before I got a job, I always wondered what it would be like working as an entry-level data analyst with no prior experience except in projects. If you have ever had the same thought, then this article where I shared my three months of work experience as an entry-level data analyst would interest you.\n",
    "\n",
    "I got a job as a data analyst four months into my learning journey. I had worked on a project that got a lot of people, recruiters inclusive interested in me, and a couple offered to interview me for a role.\n",
    "\n",
    "The company I work for reached out as well, requesting to interview me for an open role in their company. The CTO of the company had seen my project and thought I would be a good fit for the role.\n",
    "\n",
    "Interview process\n",
    "During the interview, I felt less pressured compared to those I have had in the past simply because they had reached out to me.\n",
    "\n",
    "The interview process was a very interesting phase as I had up to three conversations leading to the time I received my offer letter.\n",
    "\n",
    "In the first conversation, we talked about my skills as a data analyst and how I can add value to the company and contribute to a new project currently being worked on.\n",
    "\n",
    "The second one was a take-home assignment to analyze a project and also give recommendations which I submitted the next day.\n",
    "\n",
    "The last conversation was generally about what my duties would be in my new role and also my take-home expectation.\n",
    "\n",
    "Something that stood out for me and made me happy was when, at the end of the call, my recruiter said;\n",
    "\n",
    "“My takeaway from our conversations in the past couple of days is that you are passionate about storytelling with data and you understand the industry quite well”\n",
    "\n",
    "After this, my offer letter was sent and I resumed almost immediately.\n",
    "\n",
    "From the time of the first conversation to the receipt of my offer letter was approximately two weeks.''')\n"
   ]
  },
  {
   "cell_type": "code",
   "execution_count": 7,
   "id": "452a9438-420a-4e47-a08d-f8fd7cdfca4e",
   "metadata": {},
   "outputs": [
    {
     "ename": "UnsupportedOperation",
     "evalue": "not readable",
     "output_type": "error",
     "traceback": [
      "\u001b[1;31m---------------------------------------------------------------------------\u001b[0m",
      "\u001b[1;31mUnsupportedOperation\u001b[0m                      Traceback (most recent call last)",
      "Cell \u001b[1;32mIn[7], line 1\u001b[0m\n\u001b[1;32m----> 1\u001b[0m o\u001b[38;5;241m.\u001b[39mread()\n",
      "\u001b[1;31mUnsupportedOperation\u001b[0m: not readable"
     ]
    }
   ],
   "source": [
    "o.read()"
   ]
  },
  {
   "cell_type": "code",
   "execution_count": 9,
   "id": "89149946-e5d4-448b-804e-e2d8d3afd36f",
   "metadata": {},
   "outputs": [],
   "source": [
    "o.close()"
   ]
  },
  {
   "cell_type": "code",
   "execution_count": 12,
   "id": "825b2453-a2c9-4b40-b6ef-9439a1df15dc",
   "metadata": {},
   "outputs": [],
   "source": [
    "o = open('data analyst life.txt', mode = 'r+')"
   ]
  },
  {
   "cell_type": "code",
   "execution_count": 14,
   "id": "0b8b8265-7a4f-4b87-9317-06cf15cbd103",
   "metadata": {},
   "outputs": [
    {
     "data": {
      "text/plain": [
       "'Before I got a job, I always wondered what it would be like working as an entry-level data analyst with no prior experience except in projects. If you have ever had the same thought, then this article where I shared my three months of work experience as an entry-level data analyst would interest you.\\n\\nI got a job as a data analyst four months into my learning journey. I had worked on a project that got a lot of people, recruiters inclusive interested in me, and a couple offered to interview me for a role.\\n\\nThe company I work for reached out as well, requesting to interview me for an open role in their company. The CTO of the company had seen my project and thought I would be a good fit for the role.\\n\\nInterview process\\nDuring the interview, I felt less pressured compared to those I have had in the past simply because they had reached out to me.\\n\\nThe interview process was a very interesting phase as I had up to three conversations leading to the time I received my offer letter.\\n\\nIn the first conversation, we talked about my skills as a data analyst and how I can add value to the company and contribute to a new project currently being worked on.\\n\\nThe second one was a take-home assignment to analyze a project and also give recommendations which I submitted the next day.\\n\\nThe last conversation was generally about what my duties would be in my new role and also my take-home expectation.\\n\\nSomething that stood out for me and made me happy was when, at the end of the call, my recruiter said;\\n\\n“My takeaway from our conversations in the past couple of days is that you are passionate about storytelling with data and you understand the industry quite well”\\n\\nAfter this, my offer letter was sent and I resumed almost immediately.\\n\\nFrom the time of the first conversation to the receipt of my offer letter was approximately two weeks.'"
      ]
     },
     "execution_count": 14,
     "metadata": {},
     "output_type": "execute_result"
    }
   ],
   "source": [
    "o.read()"
   ]
  },
  {
   "cell_type": "code",
   "execution_count": 17,
   "id": "ce95fc95-f86c-4561-990e-671d7fc8e43e",
   "metadata": {},
   "outputs": [
    {
     "data": {
      "text/plain": [
       "0"
      ]
     },
     "execution_count": 17,
     "metadata": {},
     "output_type": "execute_result"
    }
   ],
   "source": [
    "o.seek(0)"
   ]
  },
  {
   "cell_type": "code",
   "execution_count": 19,
   "id": "664dcd80-be67-46b0-8940-86e34947376a",
   "metadata": {},
   "outputs": [
    {
     "data": {
      "text/plain": [
       "['Before I got a job, I always wondered what it would be like working as an entry-level data analyst with no prior experience except in projects. If you have ever had the same thought, then this article where I shared my three months of work experience as an entry-level data analyst would interest you.\\n',\n",
       " '\\n',\n",
       " 'I got a job as a data analyst four months into my learning journey. I had worked on a project that got a lot of people, recruiters inclusive interested in me, and a couple offered to interview me for a role.\\n',\n",
       " '\\n',\n",
       " 'The company I work for reached out as well, requesting to interview me for an open role in their company. The CTO of the company had seen my project and thought I would be a good fit for the role.\\n',\n",
       " '\\n',\n",
       " 'Interview process\\n',\n",
       " 'During the interview, I felt less pressured compared to those I have had in the past simply because they had reached out to me.\\n',\n",
       " '\\n',\n",
       " 'The interview process was a very interesting phase as I had up to three conversations leading to the time I received my offer letter.\\n',\n",
       " '\\n',\n",
       " 'In the first conversation, we talked about my skills as a data analyst and how I can add value to the company and contribute to a new project currently being worked on.\\n',\n",
       " '\\n',\n",
       " 'The second one was a take-home assignment to analyze a project and also give recommendations which I submitted the next day.\\n',\n",
       " '\\n',\n",
       " 'The last conversation was generally about what my duties would be in my new role and also my take-home expectation.\\n',\n",
       " '\\n',\n",
       " 'Something that stood out for me and made me happy was when, at the end of the call, my recruiter said;\\n',\n",
       " '\\n',\n",
       " '“My takeaway from our conversations in the past couple of days is that you are passionate about storytelling with data and you understand the industry quite well”\\n',\n",
       " '\\n',\n",
       " 'After this, my offer letter was sent and I resumed almost immediately.\\n',\n",
       " '\\n',\n",
       " 'From the time of the first conversation to the receipt of my offer letter was approximately two weeks.']"
      ]
     },
     "execution_count": 19,
     "metadata": {},
     "output_type": "execute_result"
    }
   ],
   "source": [
    "o.readlines()"
   ]
  },
  {
   "cell_type": "code",
   "execution_count": 21,
   "id": "dff57d24-173e-4f98-a428-5ee4199f8dd5",
   "metadata": {},
   "outputs": [
    {
     "data": {
      "text/plain": [
       "0"
      ]
     },
     "execution_count": 21,
     "metadata": {},
     "output_type": "execute_result"
    }
   ],
   "source": [
    "o.seek(0)"
   ]
  },
  {
   "cell_type": "code",
   "execution_count": 23,
   "id": "2ee5bcc2-2929-46c3-9863-4b9e4b5a8743",
   "metadata": {},
   "outputs": [
    {
     "name": "stdout",
     "output_type": "stream",
     "text": [
      "B\n",
      "e\n",
      "f\n",
      "o\n",
      "r\n",
      "e\n",
      " \n",
      "I\n",
      " \n",
      "g\n",
      "o\n",
      "t\n",
      " \n",
      "a\n",
      " \n",
      "j\n",
      "o\n",
      "b\n",
      ",\n",
      " \n",
      "I\n",
      " \n",
      "a\n",
      "l\n",
      "w\n",
      "a\n",
      "y\n",
      "s\n",
      " \n",
      "w\n",
      "o\n",
      "n\n",
      "d\n",
      "e\n",
      "r\n",
      "e\n",
      "d\n",
      " \n",
      "w\n",
      "h\n",
      "a\n",
      "t\n",
      " \n",
      "i\n",
      "t\n",
      " \n",
      "w\n",
      "o\n",
      "u\n",
      "l\n",
      "d\n",
      " \n",
      "b\n",
      "e\n",
      " \n",
      "l\n",
      "i\n",
      "k\n",
      "e\n",
      " \n",
      "w\n",
      "o\n",
      "r\n",
      "k\n",
      "i\n",
      "n\n",
      "g\n",
      " \n",
      "a\n",
      "s\n",
      " \n",
      "a\n",
      "n\n",
      " \n",
      "e\n",
      "n\n",
      "t\n",
      "r\n",
      "y\n",
      "-\n",
      "l\n",
      "e\n",
      "v\n",
      "e\n",
      "l\n",
      " \n",
      "d\n",
      "a\n",
      "t\n",
      "a\n",
      " \n",
      "a\n",
      "n\n",
      "a\n",
      "l\n",
      "y\n",
      "s\n",
      "t\n",
      " \n",
      "w\n",
      "i\n",
      "t\n",
      "h\n",
      " \n",
      "n\n",
      "o\n",
      " \n",
      "p\n",
      "r\n",
      "i\n",
      "o\n",
      "r\n",
      " \n",
      "e\n",
      "x\n",
      "p\n",
      "e\n",
      "r\n",
      "i\n",
      "e\n",
      "n\n",
      "c\n",
      "e\n",
      " \n",
      "e\n",
      "x\n",
      "c\n",
      "e\n",
      "p\n",
      "t\n",
      " \n",
      "i\n",
      "n\n",
      " \n",
      "p\n",
      "r\n",
      "o\n",
      "j\n",
      "e\n",
      "c\n",
      "t\n",
      "s\n",
      ".\n",
      " \n",
      "I\n",
      "f\n",
      " \n",
      "y\n",
      "o\n",
      "u\n",
      " \n",
      "h\n",
      "a\n",
      "v\n",
      "e\n",
      " \n",
      "e\n",
      "v\n",
      "e\n",
      "r\n",
      " \n",
      "h\n",
      "a\n",
      "d\n",
      " \n",
      "t\n",
      "h\n",
      "e\n",
      " \n",
      "s\n",
      "a\n",
      "m\n",
      "e\n",
      " \n",
      "t\n",
      "h\n",
      "o\n",
      "u\n",
      "g\n",
      "h\n",
      "t\n",
      ",\n",
      " \n",
      "t\n",
      "h\n",
      "e\n",
      "n\n",
      " \n",
      "t\n",
      "h\n",
      "i\n",
      "s\n",
      " \n",
      "a\n",
      "r\n",
      "t\n",
      "i\n",
      "c\n",
      "l\n",
      "e\n",
      " \n",
      "w\n",
      "h\n",
      "e\n",
      "r\n",
      "e\n",
      " \n",
      "I\n",
      " \n",
      "s\n",
      "h\n",
      "a\n",
      "r\n",
      "e\n",
      "d\n",
      " \n",
      "m\n",
      "y\n",
      " \n",
      "t\n",
      "h\n",
      "r\n",
      "e\n",
      "e\n",
      " \n",
      "m\n",
      "o\n",
      "n\n",
      "t\n",
      "h\n",
      "s\n",
      " \n",
      "o\n",
      "f\n",
      " \n",
      "w\n",
      "o\n",
      "r\n",
      "k\n",
      " \n",
      "e\n",
      "x\n",
      "p\n",
      "e\n",
      "r\n",
      "i\n",
      "e\n",
      "n\n",
      "c\n",
      "e\n",
      " \n",
      "a\n",
      "s\n",
      " \n",
      "a\n",
      "n\n",
      " \n",
      "e\n",
      "n\n",
      "t\n",
      "r\n",
      "y\n",
      "-\n",
      "l\n",
      "e\n",
      "v\n",
      "e\n",
      "l\n",
      " \n",
      "d\n",
      "a\n",
      "t\n",
      "a\n",
      " \n",
      "a\n",
      "n\n",
      "a\n",
      "l\n",
      "y\n",
      "s\n",
      "t\n",
      " \n",
      "w\n",
      "o\n",
      "u\n",
      "l\n",
      "d\n",
      " \n",
      "i\n",
      "n\n",
      "t\n",
      "e\n",
      "r\n",
      "e\n",
      "s\n",
      "t\n",
      " \n",
      "y\n",
      "o\n",
      "u\n",
      ".\n",
      "\n",
      "\n"
     ]
    }
   ],
   "source": [
    "for sentence in o.readline():\n",
    "    print(sentence)"
   ]
  },
  {
   "cell_type": "code",
   "execution_count": 25,
   "id": "d8805387-3544-47b6-9e0c-aa5aab36dd6e",
   "metadata": {},
   "outputs": [
    {
     "name": "stdout",
     "output_type": "stream",
     "text": [
      "\n",
      "\n",
      "I got a job as a data analyst four months into my learning journey. I had worked on a project that got a lot of people, recruiters inclusive interested in me, and a couple offered to interview me for a role.\n",
      "\n",
      "\n",
      "\n",
      "The company I work for reached out as well, requesting to interview me for an open role in their company. The CTO of the company had seen my project and thought I would be a good fit for the role.\n",
      "\n",
      "\n",
      "\n",
      "Interview process\n",
      "\n",
      "During the interview, I felt less pressured compared to those I have had in the past simply because they had reached out to me.\n",
      "\n",
      "\n",
      "\n",
      "The interview process was a very interesting phase as I had up to three conversations leading to the time I received my offer letter.\n",
      "\n",
      "\n",
      "\n",
      "In the first conversation, we talked about my skills as a data analyst and how I can add value to the company and contribute to a new project currently being worked on.\n",
      "\n",
      "\n",
      "\n",
      "The second one was a take-home assignment to analyze a project and also give recommendations which I submitted the next day.\n",
      "\n",
      "\n",
      "\n",
      "The last conversation was generally about what my duties would be in my new role and also my take-home expectation.\n",
      "\n",
      "\n",
      "\n",
      "Something that stood out for me and made me happy was when, at the end of the call, my recruiter said;\n",
      "\n",
      "\n",
      "\n",
      "“My takeaway from our conversations in the past couple of days is that you are passionate about storytelling with data and you understand the industry quite well”\n",
      "\n",
      "\n",
      "\n",
      "After this, my offer letter was sent and I resumed almost immediately.\n",
      "\n",
      "\n",
      "\n",
      "From the time of the first conversation to the receipt of my offer letter was approximately two weeks.\n"
     ]
    }
   ],
   "source": [
    "for sentences in o.readlines():\n",
    "    print(sentences)"
   ]
  },
  {
   "cell_type": "code",
   "execution_count": 27,
   "id": "609f8b2c-3071-4b8b-8346-11aa0fe3eb36",
   "metadata": {},
   "outputs": [],
   "source": [
    "s1 = \"\"\"I got a job as a data analyst four months into my learning journey. I had worked on a project that got a lot of people, recruiters inclusive interested in me, and a couple offered to interview me for a role.\"\"\"\n"
   ]
  },
  {
   "cell_type": "code",
   "execution_count": 29,
   "id": "624eb281-b9da-49c0-8d95-208bf370ed9b",
   "metadata": {},
   "outputs": [
    {
     "name": "stdout",
     "output_type": "stream",
     "text": [
      "I got a job as a data analyst four months into my learning journey. I had worked on a project that got a lot of people, recruiters inclusive interested in me, and a couple offered to interview me for a role.\n"
     ]
    }
   ],
   "source": [
    "print(s1)"
   ]
  },
  {
   "cell_type": "code",
   "execution_count": 31,
   "id": "0eb3f22d-a826-47d8-9fb9-3b23441d09d6",
   "metadata": {},
   "outputs": [],
   "source": [
    "words = s1.split(' ')"
   ]
  },
  {
   "cell_type": "code",
   "execution_count": 33,
   "id": "006247df-ad3c-49a6-bdf1-8ba69384fdba",
   "metadata": {},
   "outputs": [
    {
     "data": {
      "text/plain": [
       "['I',\n",
       " 'got',\n",
       " 'a',\n",
       " 'job',\n",
       " 'as',\n",
       " 'a',\n",
       " 'data',\n",
       " 'analyst',\n",
       " 'four',\n",
       " 'months',\n",
       " 'into',\n",
       " 'my',\n",
       " 'learning',\n",
       " 'journey.',\n",
       " 'I',\n",
       " 'had',\n",
       " 'worked',\n",
       " 'on',\n",
       " 'a',\n",
       " 'project',\n",
       " 'that',\n",
       " 'got',\n",
       " 'a',\n",
       " 'lot',\n",
       " 'of',\n",
       " 'people,',\n",
       " 'recruiters',\n",
       " 'inclusive',\n",
       " 'interested',\n",
       " 'in',\n",
       " 'me,',\n",
       " 'and',\n",
       " 'a',\n",
       " 'couple',\n",
       " 'offered',\n",
       " 'to',\n",
       " 'interview',\n",
       " 'me',\n",
       " 'for',\n",
       " 'a',\n",
       " 'role.']"
      ]
     },
     "execution_count": 33,
     "metadata": {},
     "output_type": "execute_result"
    }
   ],
   "source": [
    "words"
   ]
  },
  {
   "cell_type": "code",
   "execution_count": 36,
   "id": "4b48e1db-e3f6-4587-ab0c-f16be6f071b8",
   "metadata": {},
   "outputs": [
    {
     "data": {
      "text/plain": [
       "0"
      ]
     },
     "execution_count": 36,
     "metadata": {},
     "output_type": "execute_result"
    }
   ],
   "source": [
    "s1.count('you')"
   ]
  },
  {
   "cell_type": "code",
   "execution_count": 39,
   "id": "adbf1836-70bc-4caf-ab77-16daf1cf99a8",
   "metadata": {},
   "outputs": [
    {
     "data": {
      "text/plain": [
       "2"
      ]
     },
     "execution_count": 39,
     "metadata": {},
     "output_type": "execute_result"
    }
   ],
   "source": [
    "s1.count('of')"
   ]
  },
  {
   "cell_type": "code",
   "execution_count": 41,
   "id": "16ab9d00-b2c4-4a84-9191-463ed53fb778",
   "metadata": {},
   "outputs": [
    {
     "data": {
      "text/plain": [
       "1"
      ]
     },
     "execution_count": 41,
     "metadata": {},
     "output_type": "execute_result"
    }
   ],
   "source": [
    "s1.count('for')"
   ]
  },
  {
   "cell_type": "code",
   "execution_count": 43,
   "id": "c363ace5-9908-4743-9b40-e18fd97768e4",
   "metadata": {},
   "outputs": [
    {
     "data": {
      "text/plain": [
       "0"
      ]
     },
     "execution_count": 43,
     "metadata": {},
     "output_type": "execute_result"
    }
   ],
   "source": [
    "o.seek(0)"
   ]
  },
  {
   "cell_type": "code",
   "execution_count": 45,
   "id": "1443ce02-7c89-4adc-9b2a-0169b02c51bb",
   "metadata": {},
   "outputs": [],
   "source": [
    "l =[]\n",
    "for i in o.readline():\n",
    "    l.append(i)"
   ]
  },
  {
   "cell_type": "code",
   "execution_count": 47,
   "id": "893ce5e9-194f-4855-a93a-9761ab31a4e1",
   "metadata": {},
   "outputs": [
    {
     "data": {
      "text/plain": [
       "['B',\n",
       " 'e',\n",
       " 'f',\n",
       " 'o',\n",
       " 'r',\n",
       " 'e',\n",
       " ' ',\n",
       " 'I',\n",
       " ' ',\n",
       " 'g',\n",
       " 'o',\n",
       " 't',\n",
       " ' ',\n",
       " 'a',\n",
       " ' ',\n",
       " 'j',\n",
       " 'o',\n",
       " 'b',\n",
       " ',',\n",
       " ' ',\n",
       " 'I',\n",
       " ' ',\n",
       " 'a',\n",
       " 'l',\n",
       " 'w',\n",
       " 'a',\n",
       " 'y',\n",
       " 's',\n",
       " ' ',\n",
       " 'w',\n",
       " 'o',\n",
       " 'n',\n",
       " 'd',\n",
       " 'e',\n",
       " 'r',\n",
       " 'e',\n",
       " 'd',\n",
       " ' ',\n",
       " 'w',\n",
       " 'h',\n",
       " 'a',\n",
       " 't',\n",
       " ' ',\n",
       " 'i',\n",
       " 't',\n",
       " ' ',\n",
       " 'w',\n",
       " 'o',\n",
       " 'u',\n",
       " 'l',\n",
       " 'd',\n",
       " ' ',\n",
       " 'b',\n",
       " 'e',\n",
       " ' ',\n",
       " 'l',\n",
       " 'i',\n",
       " 'k',\n",
       " 'e',\n",
       " ' ',\n",
       " 'w',\n",
       " 'o',\n",
       " 'r',\n",
       " 'k',\n",
       " 'i',\n",
       " 'n',\n",
       " 'g',\n",
       " ' ',\n",
       " 'a',\n",
       " 's',\n",
       " ' ',\n",
       " 'a',\n",
       " 'n',\n",
       " ' ',\n",
       " 'e',\n",
       " 'n',\n",
       " 't',\n",
       " 'r',\n",
       " 'y',\n",
       " '-',\n",
       " 'l',\n",
       " 'e',\n",
       " 'v',\n",
       " 'e',\n",
       " 'l',\n",
       " ' ',\n",
       " 'd',\n",
       " 'a',\n",
       " 't',\n",
       " 'a',\n",
       " ' ',\n",
       " 'a',\n",
       " 'n',\n",
       " 'a',\n",
       " 'l',\n",
       " 'y',\n",
       " 's',\n",
       " 't',\n",
       " ' ',\n",
       " 'w',\n",
       " 'i',\n",
       " 't',\n",
       " 'h',\n",
       " ' ',\n",
       " 'n',\n",
       " 'o',\n",
       " ' ',\n",
       " 'p',\n",
       " 'r',\n",
       " 'i',\n",
       " 'o',\n",
       " 'r',\n",
       " ' ',\n",
       " 'e',\n",
       " 'x',\n",
       " 'p',\n",
       " 'e',\n",
       " 'r',\n",
       " 'i',\n",
       " 'e',\n",
       " 'n',\n",
       " 'c',\n",
       " 'e',\n",
       " ' ',\n",
       " 'e',\n",
       " 'x',\n",
       " 'c',\n",
       " 'e',\n",
       " 'p',\n",
       " 't',\n",
       " ' ',\n",
       " 'i',\n",
       " 'n',\n",
       " ' ',\n",
       " 'p',\n",
       " 'r',\n",
       " 'o',\n",
       " 'j',\n",
       " 'e',\n",
       " 'c',\n",
       " 't',\n",
       " 's',\n",
       " '.',\n",
       " ' ',\n",
       " 'I',\n",
       " 'f',\n",
       " ' ',\n",
       " 'y',\n",
       " 'o',\n",
       " 'u',\n",
       " ' ',\n",
       " 'h',\n",
       " 'a',\n",
       " 'v',\n",
       " 'e',\n",
       " ' ',\n",
       " 'e',\n",
       " 'v',\n",
       " 'e',\n",
       " 'r',\n",
       " ' ',\n",
       " 'h',\n",
       " 'a',\n",
       " 'd',\n",
       " ' ',\n",
       " 't',\n",
       " 'h',\n",
       " 'e',\n",
       " ' ',\n",
       " 's',\n",
       " 'a',\n",
       " 'm',\n",
       " 'e',\n",
       " ' ',\n",
       " 't',\n",
       " 'h',\n",
       " 'o',\n",
       " 'u',\n",
       " 'g',\n",
       " 'h',\n",
       " 't',\n",
       " ',',\n",
       " ' ',\n",
       " 't',\n",
       " 'h',\n",
       " 'e',\n",
       " 'n',\n",
       " ' ',\n",
       " 't',\n",
       " 'h',\n",
       " 'i',\n",
       " 's',\n",
       " ' ',\n",
       " 'a',\n",
       " 'r',\n",
       " 't',\n",
       " 'i',\n",
       " 'c',\n",
       " 'l',\n",
       " 'e',\n",
       " ' ',\n",
       " 'w',\n",
       " 'h',\n",
       " 'e',\n",
       " 'r',\n",
       " 'e',\n",
       " ' ',\n",
       " 'I',\n",
       " ' ',\n",
       " 's',\n",
       " 'h',\n",
       " 'a',\n",
       " 'r',\n",
       " 'e',\n",
       " 'd',\n",
       " ' ',\n",
       " 'm',\n",
       " 'y',\n",
       " ' ',\n",
       " 't',\n",
       " 'h',\n",
       " 'r',\n",
       " 'e',\n",
       " 'e',\n",
       " ' ',\n",
       " 'm',\n",
       " 'o',\n",
       " 'n',\n",
       " 't',\n",
       " 'h',\n",
       " 's',\n",
       " ' ',\n",
       " 'o',\n",
       " 'f',\n",
       " ' ',\n",
       " 'w',\n",
       " 'o',\n",
       " 'r',\n",
       " 'k',\n",
       " ' ',\n",
       " 'e',\n",
       " 'x',\n",
       " 'p',\n",
       " 'e',\n",
       " 'r',\n",
       " 'i',\n",
       " 'e',\n",
       " 'n',\n",
       " 'c',\n",
       " 'e',\n",
       " ' ',\n",
       " 'a',\n",
       " 's',\n",
       " ' ',\n",
       " 'a',\n",
       " 'n',\n",
       " ' ',\n",
       " 'e',\n",
       " 'n',\n",
       " 't',\n",
       " 'r',\n",
       " 'y',\n",
       " '-',\n",
       " 'l',\n",
       " 'e',\n",
       " 'v',\n",
       " 'e',\n",
       " 'l',\n",
       " ' ',\n",
       " 'd',\n",
       " 'a',\n",
       " 't',\n",
       " 'a',\n",
       " ' ',\n",
       " 'a',\n",
       " 'n',\n",
       " 'a',\n",
       " 'l',\n",
       " 'y',\n",
       " 's',\n",
       " 't',\n",
       " ' ',\n",
       " 'w',\n",
       " 'o',\n",
       " 'u',\n",
       " 'l',\n",
       " 'd',\n",
       " ' ',\n",
       " 'i',\n",
       " 'n',\n",
       " 't',\n",
       " 'e',\n",
       " 'r',\n",
       " 'e',\n",
       " 's',\n",
       " 't',\n",
       " ' ',\n",
       " 'y',\n",
       " 'o',\n",
       " 'u',\n",
       " '.',\n",
       " '\\n']"
      ]
     },
     "execution_count": 47,
     "metadata": {},
     "output_type": "execute_result"
    }
   ],
   "source": [
    "l"
   ]
  },
  {
   "cell_type": "code",
   "execution_count": 49,
   "id": "c2a69418-5c5a-42c6-9254-68b63c749cff",
   "metadata": {},
   "outputs": [
    {
     "data": {
      "text/plain": [
       "11"
      ]
     },
     "execution_count": 49,
     "metadata": {},
     "output_type": "execute_result"
    }
   ],
   "source": [
    "l.count('i')"
   ]
  },
  {
   "cell_type": "code",
   "execution_count": 51,
   "id": "7573d20c-84ff-4684-b54a-b4e040f008c9",
   "metadata": {},
   "outputs": [
    {
     "data": {
      "text/plain": [
       "0"
      ]
     },
     "execution_count": 51,
     "metadata": {},
     "output_type": "execute_result"
    }
   ],
   "source": [
    "o.seek(0)"
   ]
  },
  {
   "cell_type": "code",
   "execution_count": 54,
   "id": "abadbd51-8627-4b6e-9462-c98b85561147",
   "metadata": {},
   "outputs": [],
   "source": [
    "l2 =[]\n",
    "for i in o.readlines():\n",
    "    l2.append(i)"
   ]
  },
  {
   "cell_type": "code",
   "execution_count": 56,
   "id": "c05849d2-8523-4ae7-8fa8-1af004e5fbb5",
   "metadata": {},
   "outputs": [
    {
     "data": {
      "text/plain": [
       "['Before I got a job, I always wondered what it would be like working as an entry-level data analyst with no prior experience except in projects. If you have ever had the same thought, then this article where I shared my three months of work experience as an entry-level data analyst would interest you.\\n',\n",
       " '\\n',\n",
       " 'I got a job as a data analyst four months into my learning journey. I had worked on a project that got a lot of people, recruiters inclusive interested in me, and a couple offered to interview me for a role.\\n',\n",
       " '\\n',\n",
       " 'The company I work for reached out as well, requesting to interview me for an open role in their company. The CTO of the company had seen my project and thought I would be a good fit for the role.\\n',\n",
       " '\\n',\n",
       " 'Interview process\\n',\n",
       " 'During the interview, I felt less pressured compared to those I have had in the past simply because they had reached out to me.\\n',\n",
       " '\\n',\n",
       " 'The interview process was a very interesting phase as I had up to three conversations leading to the time I received my offer letter.\\n',\n",
       " '\\n',\n",
       " 'In the first conversation, we talked about my skills as a data analyst and how I can add value to the company and contribute to a new project currently being worked on.\\n',\n",
       " '\\n',\n",
       " 'The second one was a take-home assignment to analyze a project and also give recommendations which I submitted the next day.\\n',\n",
       " '\\n',\n",
       " 'The last conversation was generally about what my duties would be in my new role and also my take-home expectation.\\n',\n",
       " '\\n',\n",
       " 'Something that stood out for me and made me happy was when, at the end of the call, my recruiter said;\\n',\n",
       " '\\n',\n",
       " '“My takeaway from our conversations in the past couple of days is that you are passionate about storytelling with data and you understand the industry quite well”\\n',\n",
       " '\\n',\n",
       " 'After this, my offer letter was sent and I resumed almost immediately.\\n',\n",
       " '\\n',\n",
       " 'From the time of the first conversation to the receipt of my offer letter was approximately two weeks.']"
      ]
     },
     "execution_count": 56,
     "metadata": {},
     "output_type": "execute_result"
    }
   ],
   "source": [
    "l2"
   ]
  },
  {
   "cell_type": "code",
   "execution_count": 58,
   "id": "66e7fc74-2112-4506-9d3e-f844acc063c9",
   "metadata": {},
   "outputs": [
    {
     "name": "stdout",
     "output_type": "stream",
     "text": [
      "Before I got a job, I always wondered what it would be like working as an entry-level data analyst with no prior experience except in projects. If you have ever had the same thought, then this article where I shared my three months of work experience as an entry-level data analyst would interest you.\n",
      "\n",
      "\n",
      "\n",
      "I got a job as a data analyst four months into my learning journey. I had worked on a project that got a lot of people, recruiters inclusive interested in me, and a couple offered to interview me for a role.\n",
      "\n",
      "\n",
      "\n",
      "The company I work for reached out as well, requesting to interview me for an open role in their company. The CTO of the company had seen my project and thought I would be a good fit for the role.\n",
      "\n",
      "\n",
      "\n",
      "Interview process\n",
      "\n",
      "During the interview, I felt less pressured compared to those I have had in the past simply because they had reached out to me.\n",
      "\n",
      "\n",
      "\n",
      "The interview process was a very interesting phase as I had up to three conversations leading to the time I received my offer letter.\n",
      "\n",
      "\n",
      "\n",
      "In the first conversation, we talked about my skills as a data analyst and how I can add value to the company and contribute to a new project currently being worked on.\n",
      "\n",
      "\n",
      "\n",
      "The second one was a take-home assignment to analyze a project and also give recommendations which I submitted the next day.\n",
      "\n",
      "\n",
      "\n",
      "The last conversation was generally about what my duties would be in my new role and also my take-home expectation.\n",
      "\n",
      "\n",
      "\n",
      "Something that stood out for me and made me happy was when, at the end of the call, my recruiter said;\n",
      "\n",
      "\n",
      "\n",
      "“My takeaway from our conversations in the past couple of days is that you are passionate about storytelling with data and you understand the industry quite well”\n",
      "\n",
      "\n",
      "\n",
      "After this, my offer letter was sent and I resumed almost immediately.\n",
      "\n",
      "\n",
      "\n",
      "From the time of the first conversation to the receipt of my offer letter was approximately two weeks.\n"
     ]
    }
   ],
   "source": [
    "for i in l2:\n",
    "    print(i)"
   ]
  },
  {
   "cell_type": "code",
   "execution_count": 60,
   "id": "092a23e6-a7a0-4d8a-bb2f-29f1543bed32",
   "metadata": {},
   "outputs": [],
   "source": [
    "import numpy as np"
   ]
  },
  {
   "cell_type": "code",
   "execution_count": 63,
   "id": "4a2179dd-4e78-4eed-a69d-318a30554bfb",
   "metadata": {},
   "outputs": [],
   "source": [
    "d =[56,88,98,90,45]"
   ]
  },
  {
   "cell_type": "code",
   "execution_count": 65,
   "id": "4b5f5408-5898-4501-bc66-03ea977a9fdf",
   "metadata": {},
   "outputs": [
    {
     "data": {
      "text/plain": [
       "75.4"
      ]
     },
     "execution_count": 65,
     "metadata": {},
     "output_type": "execute_result"
    }
   ],
   "source": [
    "np.mean([56,88,98,90,45])"
   ]
  },
  {
   "cell_type": "code",
   "execution_count": 67,
   "id": "adb94a3d-d3de-4abc-901e-cbad52ee6f48",
   "metadata": {},
   "outputs": [],
   "source": [
    "def test():\n",
    "    return 'Hello'"
   ]
  },
  {
   "cell_type": "code",
   "execution_count": 69,
   "id": "eb5243a4-5429-430d-b881-d2b719d94130",
   "metadata": {},
   "outputs": [
    {
     "data": {
      "text/plain": [
       "'Hello'"
      ]
     },
     "execution_count": 69,
     "metadata": {},
     "output_type": "execute_result"
    }
   ],
   "source": [
    "test()"
   ]
  },
  {
   "cell_type": "code",
   "execution_count": null,
   "id": "70f53d6a-2512-4917-9018-eb4030678c3c",
   "metadata": {},
   "outputs": [],
   "source": []
  }
 ],
 "metadata": {
  "kernelspec": {
   "display_name": "Python 3 (ipykernel)",
   "language": "python",
   "name": "python3"
  },
  "language_info": {
   "codemirror_mode": {
    "name": "ipython",
    "version": 3
   },
   "file_extension": ".py",
   "mimetype": "text/x-python",
   "name": "python",
   "nbconvert_exporter": "python",
   "pygments_lexer": "ipython3",
   "version": "3.12.7"
  }
 },
 "nbformat": 4,
 "nbformat_minor": 5
}
